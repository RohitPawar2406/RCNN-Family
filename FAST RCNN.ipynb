{
 "cells": [
  {
   "cell_type": "code",
   "execution_count": 1,
   "id": "87cca451",
   "metadata": {},
   "outputs": [],
   "source": [
    "import torch\n",
    "from torch import nn\n",
    "\n",
    "from torchvision import transforms, models, datasets\n",
    "from torch_snippets import Report\n",
    "from torchvision.ops import nms\n",
    "from torch_snippets import *\n",
    "from torchsummary import summary"
   ]
  },
  {
   "cell_type": "code",
   "execution_count": 2,
   "id": "f0646e5d",
   "metadata": {},
   "outputs": [],
   "source": [
    "import pandas as pd\n",
    "import numpy as np\n",
    "import matplotlib.pyplot as plt\n",
    "import cv2\n",
    "\n",
    "import selectivesearch\n",
    "from skimage.segmentation import felzenszwalb"
   ]
  },
  {
   "cell_type": "code",
   "execution_count": 3,
   "id": "806d0320",
   "metadata": {},
   "outputs": [
    {
     "data": {
      "text/plain": [
       "'cuda'"
      ]
     },
     "execution_count": 3,
     "metadata": {},
     "output_type": "execute_result"
    }
   ],
   "source": [
    "device = 'cuda' if torch.cuda.is_available() else 'cpu'\n",
    "device"
   ]
  },
  {
   "cell_type": "markdown",
   "id": "7a49e2c3",
   "metadata": {},
   "source": [
    "# VGG16 "
   ]
  },
  {
   "cell_type": "code",
   "execution_count": 4,
   "id": "a56afa9c",
   "metadata": {},
   "outputs": [],
   "source": [
    "from torchvision.models import vgg16_bn"
   ]
  },
  {
   "cell_type": "code",
   "execution_count": 6,
   "id": "b8a7edaa",
   "metadata": {},
   "outputs": [],
   "source": [
    "vgg_backbone = models.vgg16_bn(pretrained=True)\n",
    "#vgg_backbone.features"
   ]
  },
  {
   "cell_type": "markdown",
   "id": "3a55d67e",
   "metadata": {},
   "source": [
    "# Dataset Reading "
   ]
  },
  {
   "cell_type": "code",
   "execution_count": 7,
   "id": "36db4ec4",
   "metadata": {},
   "outputs": [
    {
     "data": {
      "text/plain": [
       "(24062, 21)"
      ]
     },
     "execution_count": 7,
     "metadata": {},
     "output_type": "execute_result"
    }
   ],
   "source": [
    "df = pd.read_csv(\"RCNN_dataset/df.csv\")\n",
    "df.shape"
   ]
  },
  {
   "cell_type": "code",
   "execution_count": 8,
   "id": "2f6df850",
   "metadata": {},
   "outputs": [
    {
     "data": {
      "text/html": [
       "<div>\n",
       "<style scoped>\n",
       "    .dataframe tbody tr th:only-of-type {\n",
       "        vertical-align: middle;\n",
       "    }\n",
       "\n",
       "    .dataframe tbody tr th {\n",
       "        vertical-align: top;\n",
       "    }\n",
       "\n",
       "    .dataframe thead th {\n",
       "        text-align: right;\n",
       "    }\n",
       "</style>\n",
       "<table border=\"1\" class=\"dataframe\">\n",
       "  <thead>\n",
       "    <tr style=\"text-align: right;\">\n",
       "      <th></th>\n",
       "      <th>ImageID</th>\n",
       "      <th>Source</th>\n",
       "      <th>LabelName</th>\n",
       "      <th>Confidence</th>\n",
       "      <th>XMin</th>\n",
       "      <th>XMax</th>\n",
       "      <th>YMin</th>\n",
       "      <th>YMax</th>\n",
       "      <th>IsOccluded</th>\n",
       "      <th>IsTruncated</th>\n",
       "      <th>...</th>\n",
       "      <th>IsDepiction</th>\n",
       "      <th>IsInside</th>\n",
       "      <th>XClick1X</th>\n",
       "      <th>XClick2X</th>\n",
       "      <th>XClick3X</th>\n",
       "      <th>XClick4X</th>\n",
       "      <th>XClick1Y</th>\n",
       "      <th>XClick2Y</th>\n",
       "      <th>XClick3Y</th>\n",
       "      <th>XClick4Y</th>\n",
       "    </tr>\n",
       "  </thead>\n",
       "  <tbody>\n",
       "    <tr>\n",
       "      <th>0</th>\n",
       "      <td>0000599864fd15b3</td>\n",
       "      <td>xclick</td>\n",
       "      <td>Bus</td>\n",
       "      <td>1</td>\n",
       "      <td>0.343750</td>\n",
       "      <td>0.908750</td>\n",
       "      <td>0.156162</td>\n",
       "      <td>0.650047</td>\n",
       "      <td>1</td>\n",
       "      <td>0</td>\n",
       "      <td>...</td>\n",
       "      <td>0</td>\n",
       "      <td>0</td>\n",
       "      <td>0.421875</td>\n",
       "      <td>0.343750</td>\n",
       "      <td>0.795000</td>\n",
       "      <td>0.908750</td>\n",
       "      <td>0.156162</td>\n",
       "      <td>0.512700</td>\n",
       "      <td>0.650047</td>\n",
       "      <td>0.457197</td>\n",
       "    </tr>\n",
       "    <tr>\n",
       "      <th>1</th>\n",
       "      <td>00006bdb1eb5cd74</td>\n",
       "      <td>xclick</td>\n",
       "      <td>Truck</td>\n",
       "      <td>1</td>\n",
       "      <td>0.276667</td>\n",
       "      <td>0.697500</td>\n",
       "      <td>0.141604</td>\n",
       "      <td>0.437343</td>\n",
       "      <td>1</td>\n",
       "      <td>0</td>\n",
       "      <td>...</td>\n",
       "      <td>0</td>\n",
       "      <td>0</td>\n",
       "      <td>0.299167</td>\n",
       "      <td>0.276667</td>\n",
       "      <td>0.697500</td>\n",
       "      <td>0.659167</td>\n",
       "      <td>0.141604</td>\n",
       "      <td>0.241855</td>\n",
       "      <td>0.352130</td>\n",
       "      <td>0.437343</td>\n",
       "    </tr>\n",
       "    <tr>\n",
       "      <th>2</th>\n",
       "      <td>00006bdb1eb5cd74</td>\n",
       "      <td>xclick</td>\n",
       "      <td>Truck</td>\n",
       "      <td>1</td>\n",
       "      <td>0.702500</td>\n",
       "      <td>0.999167</td>\n",
       "      <td>0.204261</td>\n",
       "      <td>0.409774</td>\n",
       "      <td>1</td>\n",
       "      <td>1</td>\n",
       "      <td>...</td>\n",
       "      <td>0</td>\n",
       "      <td>0</td>\n",
       "      <td>0.849167</td>\n",
       "      <td>0.702500</td>\n",
       "      <td>0.906667</td>\n",
       "      <td>0.999167</td>\n",
       "      <td>0.204261</td>\n",
       "      <td>0.398496</td>\n",
       "      <td>0.409774</td>\n",
       "      <td>0.295739</td>\n",
       "    </tr>\n",
       "    <tr>\n",
       "      <th>3</th>\n",
       "      <td>00010bf498b64bab</td>\n",
       "      <td>xclick</td>\n",
       "      <td>Bus</td>\n",
       "      <td>1</td>\n",
       "      <td>0.156250</td>\n",
       "      <td>0.371250</td>\n",
       "      <td>0.269188</td>\n",
       "      <td>0.705228</td>\n",
       "      <td>0</td>\n",
       "      <td>0</td>\n",
       "      <td>...</td>\n",
       "      <td>0</td>\n",
       "      <td>0</td>\n",
       "      <td>0.274375</td>\n",
       "      <td>0.371250</td>\n",
       "      <td>0.311875</td>\n",
       "      <td>0.156250</td>\n",
       "      <td>0.269188</td>\n",
       "      <td>0.493882</td>\n",
       "      <td>0.705228</td>\n",
       "      <td>0.521691</td>\n",
       "    </tr>\n",
       "  </tbody>\n",
       "</table>\n",
       "<p>4 rows × 21 columns</p>\n",
       "</div>"
      ],
      "text/plain": [
       "            ImageID  Source LabelName  Confidence      XMin      XMax  \\\n",
       "0  0000599864fd15b3  xclick       Bus           1  0.343750  0.908750   \n",
       "1  00006bdb1eb5cd74  xclick     Truck           1  0.276667  0.697500   \n",
       "2  00006bdb1eb5cd74  xclick     Truck           1  0.702500  0.999167   \n",
       "3  00010bf498b64bab  xclick       Bus           1  0.156250  0.371250   \n",
       "\n",
       "       YMin      YMax  IsOccluded  IsTruncated  ...  IsDepiction  IsInside  \\\n",
       "0  0.156162  0.650047           1            0  ...            0         0   \n",
       "1  0.141604  0.437343           1            0  ...            0         0   \n",
       "2  0.204261  0.409774           1            1  ...            0         0   \n",
       "3  0.269188  0.705228           0            0  ...            0         0   \n",
       "\n",
       "   XClick1X  XClick2X  XClick3X  XClick4X  XClick1Y  XClick2Y  XClick3Y  \\\n",
       "0  0.421875  0.343750  0.795000  0.908750  0.156162  0.512700  0.650047   \n",
       "1  0.299167  0.276667  0.697500  0.659167  0.141604  0.241855  0.352130   \n",
       "2  0.849167  0.702500  0.906667  0.999167  0.204261  0.398496  0.409774   \n",
       "3  0.274375  0.371250  0.311875  0.156250  0.269188  0.493882  0.705228   \n",
       "\n",
       "   XClick4Y  \n",
       "0  0.457197  \n",
       "1  0.437343  \n",
       "2  0.295739  \n",
       "3  0.521691  \n",
       "\n",
       "[4 rows x 21 columns]"
      ]
     },
     "execution_count": 8,
     "metadata": {},
     "output_type": "execute_result"
    }
   ],
   "source": [
    "df.head(4)"
   ]
  },
  {
   "cell_type": "markdown",
   "id": "c6a84e5a",
   "metadata": {},
   "source": [
    "So in actual we only need LabelName and XMin, XMax, YMin, YMax."
   ]
  },
  {
   "cell_type": "markdown",
   "id": "116ac447",
   "metadata": {},
   "source": [
    "## Data Preprocessing"
   ]
  },
  {
   "cell_type": "code",
   "execution_count": null,
   "id": "87f635a1",
   "metadata": {},
   "outputs": [],
   "source": []
  },
  {
   "cell_type": "markdown",
   "id": "8c260d9b",
   "metadata": {},
   "source": [
    "# Loss Function"
   ]
  },
  {
   "cell_type": "code",
   "execution_count": 9,
   "id": "b23f3a24",
   "metadata": {},
   "outputs": [],
   "source": [
    "crossEntropyLoss = nn.CrossEntropyLoss()\n",
    "l1LossFunction  = nn.L1Loss()"
   ]
  },
  {
   "cell_type": "code",
   "execution_count": null,
   "id": "e55f911e",
   "metadata": {},
   "outputs": [],
   "source": [
    "def CalculateLossFunction(self, probs, labels, _deltas, deltas):\n",
    "    classLoss = crossEntropyLoss(probs,labels)\n",
    "    \n",
    "    # Regression Loss for Box.\n",
    "    \n",
    "    pass\n"
   ]
  }
 ],
 "metadata": {
  "kernelspec": {
   "display_name": "Python 3 (ipykernel)",
   "language": "python",
   "name": "python3"
  },
  "language_info": {
   "codemirror_mode": {
    "name": "ipython",
    "version": 3
   },
   "file_extension": ".py",
   "mimetype": "text/x-python",
   "name": "python",
   "nbconvert_exporter": "python",
   "pygments_lexer": "ipython3",
   "version": "3.9.0"
  }
 },
 "nbformat": 4,
 "nbformat_minor": 5
}
